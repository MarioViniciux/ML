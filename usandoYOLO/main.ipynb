{
 "cells": [
  {
   "cell_type": "code",
   "execution_count": null,
   "id": "7ddbab99",
   "metadata": {
    "vscode": {
     "languageId": "plaintext"
    }
   },
   "outputs": [],
   "source": [
    "!pip install ultralytics"
   ]
  },
  {
   "cell_type": "code",
   "execution_count": null,
   "id": "9808b279",
   "metadata": {
    "vscode": {
     "languageId": "plaintext"
    }
   },
   "outputs": [],
   "source": [
    "from ultralytics import YOLO\n",
    "import cv2\n",
    "from IPython.display import display, Image\n",
    "import PIL.Image"
   ]
  },
  {
   "cell_type": "code",
   "execution_count": null,
   "id": "c71a7c11",
   "metadata": {
    "vscode": {
     "languageId": "plaintext"
    }
   },
   "outputs": [],
   "source": [
    "model = YOLO(\"yolov8n.pt\")\n",
    "\n",
    "# Fazer a predição\n",
    "results = model(\"pessoas.jpg\")"
   ]
  },
  {
   "cell_type": "code",
   "execution_count": null,
   "id": "56ccf68f",
   "metadata": {
    "vscode": {
     "languageId": "plaintext"
    }
   },
   "outputs": [],
   "source": [
    "# Mostrar imagem com anotações no Colab\n",
    "results[0].save(filename=\"saida.jpg\")\n",
    "display(PIL.Image.open(\"saida.jpg\"))\n",
    "\n",
    "results = model(\"bicicleta.jpg\")\n",
    "results[0].save(\"saida1.jpg\")\n",
    "display(PIL.Image.open(\"saida1.jpg\"))\n",
    "\n",
    "results = model(\"pessoas.jpg\")\n",
    "results[0].save(\"saida2.jpg\")\n",
    "display(PIL.Image.open(\"saida2.jpg\"))"
   ]
  }
 ],
 "metadata": {
  "language_info": {
   "name": "python"
  }
 },
 "nbformat": 4,
 "nbformat_minor": 5
}
