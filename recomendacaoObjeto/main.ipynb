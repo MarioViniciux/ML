{
 "cells": [
  {
   "cell_type": "code",
   "execution_count": null,
   "id": "6f60a1b5",
   "metadata": {
    "vscode": {
     "languageId": "plaintext"
    }
   },
   "outputs": [],
   "source": [
    "!pip install tensorflow scikit-learn matplotlib\n"
   ]
  },
  {
   "cell_type": "code",
   "execution_count": null,
   "id": "450a6e76",
   "metadata": {
    "vscode": {
     "languageId": "plaintext"
    }
   },
   "outputs": [],
   "source": [
    "import os\n",
    "import numpy as np\n",
    "import matplotlib.pyplot as plt\n",
    "from tensorflow.keras.applications.resnet50 import ResNet50, preprocess_input\n",
    "from tensorflow.keras.preprocessing import image\n",
    "from sklearn.metrics.pairwise import cosine_similarity\n",
    "from google.colab import files\n",
    "from zipfile import ZipFile\n",
    "from PIL import Image\n"
   ]
  },
  {
   "cell_type": "code",
   "execution_count": null,
   "id": "c290c815",
   "metadata": {
    "vscode": {
     "languageId": "plaintext"
    }
   },
   "outputs": [],
   "source": [
    "uploaded = files.upload() # Tem que ser um arquivo .zip com as imagens"
   ]
  },
  {
   "cell_type": "code",
   "execution_count": null,
   "id": "bb421203",
   "metadata": {
    "vscode": {
     "languageId": "plaintext"
    }
   },
   "outputs": [],
   "source": [
    "zip_path = next(iter(uploaded))\n",
    "with ZipFile(zip_path, 'r') as zip_ref:\n",
    "    zip_ref.extractall(\"images\")"
   ]
  },
  {
   "cell_type": "code",
   "execution_count": null,
   "id": "d2ecac4a",
   "metadata": {
    "vscode": {
     "languageId": "plaintext"
    }
   },
   "outputs": [],
   "source": [
    "model = ResNet50(weights='imagenet', include_top=False, pooling='avg')\n",
    "\n",
    "def extract_features(img_path):\n",
    "    img = image.load_img(img_path, target_size=(224, 224))\n",
    "    img_array = image.img_to_array(img)\n",
    "    img_array = preprocess_input(np.expand_dims(img_array, axis=0))\n",
    "    features = model.predict(img_array, verbose=0)\n",
    "    return features.flatten()"
   ]
  },
  {
   "cell_type": "code",
   "execution_count": null,
   "id": "05ae2062",
   "metadata": {
    "vscode": {
     "languageId": "plaintext"
    }
   },
   "outputs": [],
   "source": [
    "image_paths = []\n",
    "features_list = []\n",
    "\n",
    "for root, _, files in os.walk(\"images\"):\n",
    "    for file in files:\n",
    "        if file.endswith((\".jpg\", \".png\", \".jpeg\")):\n",
    "            path = os.path.join(root, file)\n",
    "            try:\n",
    "                features = extract_features(path)\n",
    "                image_paths.append(path)\n",
    "                features_list.append(features)\n",
    "            except:\n",
    "                print(\"Erro com imagem:\", path)\n",
    "\n",
    "features_array = np.array(features_list)"
   ]
  },
  {
   "cell_type": "code",
   "execution_count": null,
   "id": "b16a7525",
   "metadata": {
    "vscode": {
     "languageId": "plaintext"
    }
   },
   "outputs": [],
   "source": [
    "from google.colab import files\n",
    "\n",
    "consulta = files.upload() # imagem normal (.png, .jpg, etc)\n",
    "img_consulta_path = next(iter(consulta))\n",
    "vetor_consulta = extract_features(img_consulta_path)"
   ]
  },
  {
   "cell_type": "code",
   "execution_count": null,
   "id": "e888751c",
   "metadata": {
    "vscode": {
     "languageId": "plaintext"
    }
   },
   "outputs": [],
   "source": [
    "sim_scores = cosine_similarity([vetor_consulta], features_array)[0]\n",
    "top_indices = np.argsort(sim_scores)[::-1][:5]"
   ]
  },
  {
   "cell_type": "code",
   "execution_count": null,
   "id": "2cbed891",
   "metadata": {
    "vscode": {
     "languageId": "plaintext"
    }
   },
   "outputs": [],
   "source": [
    "def show_images(indices):\n",
    "    plt.figure(figsize=(15, 5))\n",
    "    for i, idx in enumerate(indices):\n",
    "        img = Image.open(image_paths[idx])\n",
    "        plt.subplot(1, len(indices), i + 1)\n",
    "        plt.imshow(img)\n",
    "        plt.axis(\"off\")\n",
    "        plt.title(f\"Score: {sim_scores[idx]:.2f}\")\n",
    "    plt.show()\n",
    "\n",
    "show_images(top_indices)"
   ]
  }
 ],
 "metadata": {
  "language_info": {
   "name": "python"
  }
 },
 "nbformat": 4,
 "nbformat_minor": 5
}
